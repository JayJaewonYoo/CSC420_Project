{
  "nbformat": 4,
  "nbformat_minor": 0,
  "metadata": {
    "colab": {
      "name": "inpainting.ipynb",
      "provenance": []
    },
    "kernelspec": {
      "name": "python3",
      "display_name": "Python 3"
    }
  },
  "cells": [
    {
      "cell_type": "code",
      "metadata": {
        "colab": {
          "base_uri": "https://localhost:8080/"
        },
        "id": "VeWlNjmzbdxj",
        "outputId": "ae6f5e08-312e-42e3-fa41-ff0c6dcc8d03"
      },
      "source": [
        "!pip install colour-science"
      ],
      "execution_count": 1,
      "outputs": [
        {
          "output_type": "stream",
          "text": [
            "Collecting colour-science\n",
            "\u001b[?25l  Downloading https://files.pythonhosted.org/packages/1e/36/67093e50ee2438659b4fc33784d64390cadbbaa096464cb2027e5e81c8e0/colour_science-0.3.16-py2.py3-none-any.whl (2.1MB)\n",
            "\u001b[K     |████████████████████████████████| 2.1MB 6.1MB/s \n",
            "\u001b[?25hRequirement already satisfied: six in /usr/local/lib/python3.6/dist-packages (from colour-science) (1.15.0)\n",
            "Requirement already satisfied: scipy<2.0.0,>=1.1.0 in /usr/local/lib/python3.6/dist-packages (from colour-science) (1.4.1)\n",
            "Requirement already satisfied: imageio in /usr/local/lib/python3.6/dist-packages (from colour-science) (2.4.1)\n",
            "Requirement already satisfied: numpy>=1.13.3 in /usr/local/lib/python3.6/dist-packages (from scipy<2.0.0,>=1.1.0->colour-science) (1.18.5)\n",
            "Requirement already satisfied: pillow in /usr/local/lib/python3.6/dist-packages (from imageio->colour-science) (7.0.0)\n",
            "Installing collected packages: colour-science\n",
            "Successfully installed colour-science-0.3.16\n"
          ],
          "name": "stdout"
        }
      ]
    },
    {
      "cell_type": "code",
      "metadata": {
        "id": "bzdDRWeuNflk"
      },
      "source": [
        "import numpy as np\n",
        "import cv2\n",
        "from google.colab.patches import cv2_imshow # For showing because cv2.imshow doesn't work normally\n",
        "import matplotlib.pyplot as plt\n",
        "from scipy import ndimage\n",
        "from scipy import signal\n",
        "import colour"
      ],
      "execution_count": 3,
      "outputs": []
    },
    {
      "cell_type": "code",
      "metadata": {
        "id": "ysiMiGC9kigR"
      },
      "source": [
        "class inpainting():\n",
        "    def __init__(self, image, mask):\n",
        "        assert image.shape[:2] == mask.shape, 'Image and mask must have same shape in 0 and 1 dimensions (HWC)'\n",
        "\n",
        "        \"\"\" Original inputs (keeping just in case) \"\"\"\n",
        "        self.original_image = image.astype(np.float32)\n",
        "        # Image is read in as BGR format, may change to RGB later\n",
        "        (threshold, self.original_mask) = cv2.threshold(mask, 128, 255, cv2.THRESH_BINARY | cv2.THRESH_OTSU)\n",
        "        # Mask is binary [0, 255] with 255 inside target, 0 outside\n",
        "\n",
        "        \"\"\" Values to be updated (not updated when computing priorities but must be updated after) \"\"\"\n",
        "        # Note that self.image and self.mask can be updated\n",
        "        self.image = np.copy(self.original_image)\n",
        "        # Image is read in as BGR format, may change to RGB later\n",
        "        self.mask = np.copy(self.original_mask)\n",
        "        # Mask is binary [0, 255] with 255 inside target, 0 outside\n",
        "        self.fill_front = cv2.Canny(self.mask, 0, 255) / 255 # 1 at edges, 0 otherwise\n",
        "        self.fill_front_set = None\n",
        "        self.update_fill_front_set()\n",
        "        self.inv_mask = 1 - (np.copy(mask) / 255) # 0 inside target, 1 outside target\n",
        "\n",
        "        \"\"\" Constant Scalars \"\"\"\n",
        "        self.window_size = 13\n",
        "        assert self.window_size % 2 != 0 and self.window_size > 0, 'Window size must be odd and positive' # Enforce must be odd and positive\n",
        "        # Default size in paper is 9 \"but in practice require the user to set it to be slightly larger than the largest texture element\"\n",
        "        self.alpha = 255\n",
        "        # self.window_area = np.square(self.window_size)\n",
        "        # self.window_k = (self.window_size - 1) // 2 # Half of the window\n",
        "\n",
        "        \"\"\" Constant Kernels \"\"\"\n",
        "        self.sobel_x = np.array([[-1, 0, 1], [-2, 0, 2], [-1, 0, 1]])\n",
        "        self.sobel_y = np.array([[-1, -2, -1], [0, 0, 0], [1, 2, 1]])\n",
        "        self.simple_grad_kernel_x = np.array([[0, 0, 0], [-1, 0, 1], [0, 0, 0]]) # For calculating normal of target edge\n",
        "        self.simple_grad_kernel_y = np.array([[0, -1, 0], [0, 0, 0], [0, 1, 0]]) # For calculating normal of target edge\n",
        "        self.ones_window = np.ones((self.window_size, self.window_size)) # Used for quick confidences calculation\n",
        "        self.normalization_array = signal.convolve2d(np.ones_like(self.mask), self.ones_window, mode='same', boundary='fill', fillvalue=0) # Used for quick confidences calculation\n",
        "\n",
        "        \"\"\" Arrays calculated using the above variables in the compute_priorities() function \"\"\"\n",
        "        self.grad_y = None # Defined in compute_gradients()\n",
        "        self.grad_x = None # Defined in compute_gradients()\n",
        "        self.edge_normal_y = None # Defined in compute_normals()\n",
        "        self.edge_normal_x = None # Defined in compute_normals()\n",
        "        self.C = np.copy(self.inv_mask) # 0 inside target, 1 outside target\n",
        "        self.data = None # Defined in compute_data()\n",
        "        self.priorities = None # Defined in compute_priorities()\n",
        "\n",
        "    def compute_gradients(self):\n",
        "        grayscale_image = cv2.cvtColor(self.image, cv2.COLOR_BGR2GRAY) # If using lab, have to change this\n",
        "        self.grad_y = ndimage.convolve(grayscale_image, self.sobel_y)\n",
        "        self.grad_x = ndimage.convolve(grayscale_image, self.sobel_x)\n",
        "\n",
        "    def compute_normals(self):\n",
        "        edge_grad_x = ndimage.convolve(self.inv_mask, self.simple_grad_kernel_x) # self.inv_mask is same as self.sourceRegion from git repo\n",
        "        edge_grad_y = ndimage.convolve(self.inv_mask, self.simple_grad_kernel_y)\n",
        "        self.edge_normal_y = -1 * edge_grad_x\n",
        "        self.edge_normal_x = edge_grad_y\n",
        "        normal_magnitude = np.sqrt(np.square(self.edge_normal_y) + np.square(self.edge_normal_x))\n",
        "        normal_magnitude[normal_magnitude == 0] = 1 # Prevent divide by 0 by not normalizing these elements\n",
        "        self.edge_normal_y /= normal_magnitude\n",
        "        self.edge_normal_x /= normal_magnitude\n",
        "\n",
        "    def compute_data(self):\n",
        "        self.compute_gradients()\n",
        "        self.compute_normals()\n",
        "        data = (self.grad_y * self.edge_normal_y) + (self.grad_x * self.edge_normal_x)\n",
        "        data = np.abs(data)\n",
        "        data[data == 0] = 1e-7 # Possibly not required (repo adds 0.001 to absolute line)\n",
        "        # data *= self.fill_front # self.fill_front is assumed to be 1 at edges, 0 else\n",
        "        data /= self.alpha\n",
        "        self.data = data\n",
        "\n",
        "    def compute_confidences(self):\n",
        "        unnormalized_confidences = signal.convolve2d(self.C, self.ones_window, mode='same', boundary='fill', fillvalue=0)\n",
        "        confidences = unnormalized_confidences / self.normalization_array\n",
        "        # confidences *= self.fill_front # self.fill_front is assumed to be 1 at edges, 0 else\n",
        "        self.C = confidences\n",
        "\n",
        "    def compute_priorities(self):\n",
        "        self.compute_data()\n",
        "        self.compute_confidences()\n",
        "        self.priorities = self.C * self.data * self.fill_front # self.fill_front is assumed to be 1 at edges, 0 else\n",
        "    \n",
        "    def get_highest_priority(self):\n",
        "        \"\"\" Return coordinates for pixel with highest priority value \"\"\"\n",
        "        return np.unravel_index(self.priorities.argmax(), self.priorities.shape)\n",
        "\n",
        "    def get_patch(self, img, p, copy=True):\n",
        "        \"\"\" Return patch given centre point p \"\"\"\n",
        "        y, x = p\n",
        "        h, w = img.shape[0], img.shape[1]\n",
        "        r_t, r_b = max(0, y-self.window_size//2), min(h, y+self.window_size//2+1) # row top, row bottom\n",
        "        c_l, c_r = max(0, x-self.window_size//2), min(w, x+self.window_size//2+1) # col left, col right\n",
        "        ret = {\n",
        "            'patch': img[r_t:r_b, c_l:c_r].copy() if copy else img[r_t:r_b, c_l:c_r],\n",
        "            'coord': [r_t, r_b, c_l, c_r]\n",
        "        }\n",
        "        return ret\n",
        "\n",
        "    def update_fill_front_set(self):\n",
        "        idx = np.argwhere(self.fill_front==1.0)\n",
        "        front_set = set()\n",
        "        for r,c in idx:\n",
        "            front_set.add((r,c))\n",
        "        self.fill_front_set = front_set\n",
        "\n",
        "    def is_outside_target(self, p):\n",
        "        \"\"\"Returns True if centre point p will result in patch exclusively inside source \"\"\"\n",
        "        y, x = p\n",
        "        r_t, r_b, c_l, c_r = self.get_patch(self.image, p)['coord']\n",
        "        \n",
        "        mask = self.mask.copy()[r_t:r_b, c_l:c_r]\n",
        "        mask = mask[mask!=0]\n",
        "        \n",
        "        return len(mask)==0 \n",
        "\n",
        "    def get_patch_mask(self, p):\n",
        "        temp = self.get_patch(self.mask, p)['patch']\n",
        "        temp[temp==255] = 1\n",
        "        temp = np.array(temp, dtype=np.bool)\n",
        "        patch_mask = np.zeros((self.window_size, self.window_size, 3), dtype=np.bool)\n",
        "        patch_mask[:, :, 0] = temp\n",
        "        patch_mask[:, :, 1] = temp\n",
        "        patch_mask[:, :, 2] = temp\n",
        "\n",
        "        return patch_mask\n",
        "\n",
        "    def compute_ssd(self, patch1, patch2, patch_mask):\n",
        "        patch1 = cv2.cvtColor(patch1, cv2.COLOR_BGR2LAB)\n",
        "        patch2 = cv2.cvtColor(patch2, cv2.COLOR_BGR2LAB)\n",
        "        \n",
        "        # diff = patch1.ravel() - patch2.ravel()\n",
        "        diff = patch1[patch_mask].ravel() - patch2[patch_mask].ravel()\n",
        "        return np.dot(diff, diff)\n",
        "        \n",
        "        # patch1 = patch1[patch_mask].ravel()\n",
        "        # patch2 = patch2[patch_mask].ravel()\n",
        "        # patch1 = np.reshape(patch1, (-1, 1, 3))\n",
        "        # patch2 = np.reshape(patch2, (-1, 1, 3))\n",
        "\n",
        "        # delta_E = colour.difference.delta_E_CIE2000(patch1, patch2)\n",
        "\n",
        "        # return np.mean(delta_E)\n",
        "\n",
        "    def update_mask_and_confidence(self, p):\n",
        "        \"\"\"Updates self.mask\n",
        "        p: (y,x) coord for priority patch centre point \n",
        "        \"\"\"\n",
        "        y, x = p\n",
        "        mask_p = self.get_patch(self.mask, p)['patch']\n",
        "        mask_idx = np.argwhere(mask_p!=0)\n",
        "        for r, c in mask_idx:\n",
        "            self.mask[r+y-self.window_size//2,c+x-self.window_size//2] = 0\n",
        "            self.C[r+y-self.window_size//2,c+x-self.window_size//2] = self.C[y,x]\n",
        "        \n",
        "    def update_fill_front(self):\n",
        "        self.fill_front = cv2.Canny(self.mask, 0, 255) / 255 # 1 at edges, 0 otherwise\n",
        "        self.update_fill_front_set()\n",
        "\n",
        "    def compute_best_patch_and_update(self):\n",
        "        \"\"\" Find best patch to update; returns the best patch for reference  \"\"\"\n",
        "        y, x = self.get_highest_priority()\n",
        "        h, w = self.image.shape[0], self.image.shape[1]\n",
        "        p = (y, x)\n",
        "\n",
        "        patch_mask = self.get_patch_mask(p)\n",
        "\n",
        "        # patch reference to self.image\n",
        "        priority_patch = self.get_patch(self.image, p, copy=False)['patch']\n",
        "        # priority_patch[patch_mask] = 0 # already filled\n",
        "\n",
        "        min_ssd = np.inf\n",
        "        best_patch = None\n",
        "        best_r, best_c = None, None # use to test\n",
        "\n",
        "        # find best patch\n",
        "        for r in range(self.window_size//2, h-self.window_size//2):\n",
        "            for c in range(self.window_size//2, w-self.window_size//2):\n",
        "                point = (r, c)\n",
        "                if self.is_outside_target(point):\n",
        "                    patch = self.get_patch(self.image, point)['patch']\n",
        "                    temp_patch = patch.copy()\n",
        "                    # temp_patch[patch_mask] = 255\n",
        "                    ssd = self.compute_ssd(priority_patch, temp_patch, patch_mask) # ssd between already filled pixels\n",
        "                    if ssd < min_ssd:\n",
        "                        min_ssd = ssd\n",
        "                        best_patch = patch\n",
        "                        best_r, best_c = r, c\n",
        "        \n",
        "        # update image (TODO: make more efficient)\n",
        "        idx = np.argwhere(patch_mask[:,:,0]==True)\n",
        "        for r, c in idx:\n",
        "            priority_patch[r,c] = best_patch[r,c]\n",
        "\n",
        "        # update arrays\n",
        "        self.update_mask_and_confidence(p)\n",
        "        self.update_fill_front()\n",
        "\n",
        "        return best_patch\n",
        "    \n",
        "    def inpaint(self):\n",
        "        t = 0\n",
        "        while len(self.fill_front_set) > 0:\n",
        "            self.compute_priorities()\n",
        "            self.compute_best_patch_and_update()\n",
        "            t += 1\n",
        "            if t == 500:\n",
        "                print(\"wtf\")\n",
        "                break"
      ],
      "execution_count": 68,
      "outputs": []
    },
    {
      "cell_type": "code",
      "metadata": {
        "id": "mNqvZTd2kaCz"
      },
      "source": [
        "test_image = cv2.imread('image1.jpg', cv2.IMREAD_COLOR)\n",
        "test_mask = cv2.imread('mask1.jpg', cv2.IMREAD_GRAYSCALE)"
      ],
      "execution_count": 69,
      "outputs": []
    },
    {
      "cell_type": "code",
      "metadata": {
        "id": "IMZNLIeQW_Oo"
      },
      "source": [
        "i_obj = inpainting(test_image, test_mask)\n",
        "i_obj.inpaint()"
      ],
      "execution_count": 70,
      "outputs": []
    },
    {
      "cell_type": "code",
      "metadata": {
        "colab": {
          "base_uri": "https://localhost:8080/",
          "height": 286
        },
        "id": "aV9fyT4PBphO",
        "outputId": "4fb69ccf-ab51-4adf-bfe5-d868ce68acab"
      },
      "source": [
        "plt.imshow(i_obj.image.astype('uint8'))"
      ],
      "execution_count": 71,
      "outputs": [
        {
          "output_type": "execute_result",
          "data": {
            "text/plain": [
              "<matplotlib.image.AxesImage at 0x7f6f9586def0>"
            ]
          },
          "metadata": {
            "tags": []
          },
          "execution_count": 71
        },
        {
          "output_type": "display_data",
          "data": {
            "image/png": "[encoded data removed]",
            "text/plain": [
              "<Figure size 432x288 with 1 Axes>"
            ]
          },
          "metadata": {
            "tags": [],
            "needs_background": "light"
          }
        }
      ]
    }
  ]
}