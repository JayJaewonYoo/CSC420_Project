{
  "nbformat": 4,
  "nbformat_minor": 0,
  "metadata": {
    "colab": {
      "name": "CSC420 Project",
      "provenance": [],
      "collapsed_sections": []
    },
    "kernelspec": {
      "name": "python3",
      "display_name": "Python 3"
    }
  },
  "cells": [
    {
      "cell_type": "code",
      "metadata": {
        "id": "jY5QQaRmjRE5"
      },
      "source": [
        "import numpy as np\n",
        "import cv2\n",
        "from google.colab.patches import cv2_imshow # For showing because cv2.imshow doesn't work normally\n",
        "import matplotlib.pyplot as plt\n",
        "from scipy import ndimage\n",
        "from scipy import signal"
      ],
      "execution_count": 1,
      "outputs": []
    },
    {
      "cell_type": "code",
      "metadata": {
        "id": "oX4RkQGioWlb"
      },
      "source": [
        "# https://www.microsoft.com/en-us/research/wp-content/uploads/2016/02/criminisi_cvpr2003.pdf"
      ],
      "execution_count": 2,
      "outputs": []
    },
    {
      "cell_type": "code",
      "metadata": {
        "id": "ZEIe98C5j5B2"
      },
      "source": [
        "test_image = cv2.imread('image1.jpg', cv2.IMREAD_COLOR)\n",
        "test_mask = cv2.imread('mask1.jpg', cv2.IMREAD_GRAYSCALE)"
      ],
      "execution_count": 3,
      "outputs": []
    },
    {
      "cell_type": "code",
      "metadata": {
        "id": "JTa9x4F_mlLV"
      },
      "source": [
        "class inpainting():\n",
        "  def __init__(self, image, mask):\n",
        "    assert image.shape[:2] == mask.shape, 'Image and mask must have same shape in 0 and 1 dimensions (HWC)'\n",
        "\n",
        "    # Original inputs (keeping just in case)\n",
        "    ######################\n",
        "    self.original_image = image.astype(np.float32)\n",
        "      # Image is read in as BGR format, may change to RGB later\n",
        "    (threshold, self.original_mask) = cv2.threshold(mask, 128, 255, cv2.THRESH_BINARY | cv2.THRESH_OTSU)\n",
        "      # Mask is binary [0, 255] with 255 inside target, 0 outside\n",
        "    ######################\n",
        "\n",
        "    # Values to be updated (not updated when computing priorities but must be updated after)\n",
        "    ######################\n",
        "    # Note that self.image and self.mask can be updated\n",
        "\n",
        "    self.image = np.copy(self.original_image)\n",
        "      # Image is read in as BGR format, may change to RGB later\n",
        "    self.mask = np.copy(self.original_mask)\n",
        "      # Mask is binary [0, 255] with 255 inside target, 0 outside\n",
        "    self.fill_front = cv2.Canny(self.mask, 0, 255) / 255 # 1 at edges, 0 otherwise\n",
        "    self.inv_mask = 1 - (np.copy(mask) / 255) # 0 inside target, 1 outside target\n",
        "    ######################\n",
        "\n",
        "    # Constant Scalars\n",
        "    ######################\n",
        "    self.window_size = 9\n",
        "    assert self.window_size % 2 != 0 and self.window_size > 0, 'Window size must be odd and positive' # Enforce must be odd and positive\n",
        "      # Default size in paper is 9 \"but in practice require the user to set it to be slightly larger than the largest texture element\"\n",
        "    self.alpha = 255\n",
        "    # self.window_area = np.square(self.window_size)\n",
        "    # self.window_k = (self.window_size - 1) // 2 # Half of the window\n",
        "    ######################\n",
        "\n",
        "    # Constant Kernels\n",
        "    ######################\n",
        "    self.sobel_x = np.array([[-1, 0, 1], [-2, 0, 2], [-1, 0, 1]])\n",
        "    self.sobel_y = np.array([[-1, -2, -1], [0, 0, 0], [1, 2, 1]])\n",
        "    self.simple_grad_kernel_x = np.array([[0, 0, 0], [-1, 0, 1], [0, 0, 0]]) # For calculating normal of target edge\n",
        "    self.simple_grad_kernel_y = np.array([[0, -1, 0], [0, 0, 0], [0, 1, 0]]) # For calculating normal of target edge\n",
        "    self.ones_window = np.ones((self.window_size, self.window_size)) # Used for quick confidences calculation\n",
        "    self.normalization_array = signal.convolve2d(np.ones_like(self.mask), self.ones_window, mode='same', boundary='fill', fillvalue=0) # Used for quick confidences calculation\n",
        "    ######################\n",
        "\n",
        "    # Arrays calculated using the above variables in the compute_priorities() function\n",
        "    ######################\n",
        "    self.grad_y = None # Defined in compute_gradients()\n",
        "    self.grad_x = None # Defined in compute_gradients()\n",
        "    self.edge_normal_y = None # Defined in compute_normals()\n",
        "    self.edge_normal_x = None # Defined in compute_normals()\n",
        "    self.C = np.copy(self.inv_mask) # 0 inside target, 1 outside target\n",
        "    self.data = None # Defined in compute_data()\n",
        "    self.priorities = None # Defined in compute_priorities()\n",
        "    ######################\n",
        "\n",
        "  def compute_gradients(self):\n",
        "    grayscale_image = cv2.cvtColor(self.image, cv2.COLOR_BGR2GRAY) # If using lab, have to change this\n",
        "    self.grad_y = ndimage.convolve(grayscale_image, self.sobel_y)\n",
        "    self.grad_x = ndimage.convolve(grayscale_image, self.sobel_x)\n",
        "\n",
        "  def compute_normals(self):\n",
        "    edge_grad_x = ndimage.convolve(self.inv_mask, self.simple_grad_kernel_x) # self.inv_mask is same as self.sourceRegion from git repo\n",
        "    edge_grad_y = ndimage.convolve(self.inv_mask, self.simple_grad_kernel_y)\n",
        "    self.edge_normal_y = -1 * edge_grad_x\n",
        "    self.edge_normal_x = edge_grad_y\n",
        "    normal_magnitude = np.sqrt(np.square(self.edge_normal_y) + np.square(self.edge_normal_x))\n",
        "    normal_magnitude[normal_magnitude == 0] = 1 # Prevent divide by 0 by not normalizing these elements\n",
        "    self.edge_normal_y /= normal_magnitude\n",
        "    self.edge_normal_x /= normal_magnitude\n",
        "\n",
        "  def compute_data(self):\n",
        "    self.compute_gradients()\n",
        "    self.compute_normals()\n",
        "    data = (self.grad_y * self.edge_normal_y) + (self.grad_x * self.edge_normal_x)\n",
        "    data = np.abs(data)\n",
        "    data[data == 0] = 1e-7 # Possibly not required (repo adds 0.001 to absolute line)\n",
        "    # data *= self.fill_front # self.fill_front is assumed to be 1 at edges, 0 else\n",
        "    data /= self.alpha\n",
        "    self.data = data\n",
        "\n",
        "  def compute_confidences(self):\n",
        "    unnormalized_confidences = signal.convolve2d(self.C, self.ones_window, mode='same', boundary='fill', fillvalue=0)\n",
        "    confidences = unnormalized_confidences / self.normalization_array\n",
        "    # confidences *= self.fill_front # self.fill_front is assumed to be 1 at edges, 0 else\n",
        "    self.C = confidences\n",
        "\n",
        "  def compute_priorities(self):\n",
        "    self.compute_data()\n",
        "    self.compute_confidences()\n",
        "    self.priorities = self.C * self.data * self.fill_front # self.fill_front is assumed to be 1 at edges, 0 else"
      ],
      "execution_count": 4,
      "outputs": []
    },
    {
      "cell_type": "code",
      "metadata": {
        "colab": {
          "base_uri": "https://localhost:8080/"
        },
        "id": "k0YEBWszXAqE",
        "outputId": "1a3f0f49-8d1c-47d2-948e-2cf1e10e5358"
      },
      "source": [
        "#  Testing fast confidences computation\n",
        "a = np.array([[1, 2, 0, 0],\n",
        "              [5, 3, 0, 4],\n",
        "              [0, 0, 0, 7],\n",
        "              [9, 3, 0, 0]])\n",
        "\n",
        "k = np.array([[1,1,1],[1,1,1],[1,1,1]])\n",
        "normalization_calc_array = np.ones_like(a)\n",
        "\n",
        "print(signal.convolve2d(a.astype(np.float32), k, mode='same', boundary='fill'))\n",
        "print(signal.convolve2d(normalization_calc_array, k, mode='same', boundary='fill', fillvalue=0))"
      ],
      "execution_count": 5,
      "outputs": [
        {
          "output_type": "stream",
          "text": [
            "[[11. 11.  9.  4.]\n",
            " [11. 11. 16. 11.]\n",
            " [20. 20. 17. 11.]\n",
            " [12. 12. 10.  7.]]\n",
            "[[4 6 6 4]\n",
            " [6 9 9 6]\n",
            " [6 9 9 6]\n",
            " [4 6 6 4]]\n"
          ],
          "name": "stdout"
        }
      ]
    },
    {
      "cell_type": "code",
      "metadata": {
        "id": "hrPsaTWvuJ2j"
      },
      "source": [
        "inpainting_obj = inpainting(test_image, test_mask)\n",
        "inpainting_obj.compute_priorities()"
      ],
      "execution_count": 6,
      "outputs": []
    },
    {
      "cell_type": "code",
      "metadata": {
        "id": "kcT0xEFLxM6N",
        "colab": {
          "base_uri": "https://localhost:8080/"
        },
        "outputId": "a5bf384c-23f8-479a-a7e3-2cc6231469f3"
      },
      "source": [
        "print(np.unique(inpainting_obj.priorities))"
      ],
      "execution_count": 7,
      "outputs": [
        {
          "output_type": "stream",
          "text": [
            "[0.00000000e+00 1.74083092e-10 1.74159037e-10 1.74253967e-10\n",
            " 1.74272953e-10 1.74291939e-10 1.74310925e-10 1.74329911e-10\n",
            " 1.74348897e-10 1.75469074e-10 1.75469074e-10 1.78070163e-10\n",
            " 1.78715689e-10 1.80291531e-10 1.80291531e-10 1.82911606e-10\n",
            " 1.83310313e-10 1.83557131e-10 1.83917866e-10 1.85095001e-10\n",
            " 1.85095001e-10 1.87734062e-10 1.88417560e-10 1.89936444e-10\n",
            " 1.89936444e-10 1.92784352e-10 1.93619738e-10 1.94891803e-10\n",
            " 1.94891803e-10 1.96752436e-10 1.96752436e-10 1.96809394e-10\n",
            " 1.96809394e-10 2.02467237e-10 2.03321609e-10 2.06416336e-10\n",
            " 2.06416336e-10 2.10365434e-10 2.12169109e-10 2.12985509e-10\n",
            " 2.14295546e-10 2.17618105e-10 2.17675063e-10 2.17675063e-10\n",
            " 2.17826952e-10 2.17845938e-10 2.17864924e-10 2.17864924e-10\n",
            " 2.17883910e-10 2.17921882e-10 2.17959854e-10 2.20807761e-10\n",
            " 2.21624162e-10 2.22269687e-10 2.23636683e-10 2.25193539e-10\n",
            " 2.26465604e-10 2.26845325e-10 2.27111130e-10 2.27452879e-10\n",
            " 2.27452879e-10 2.31288061e-10 2.31971559e-10 1.94244685e-04\n",
            " 1.97974494e-04 1.99037616e-04 2.95045856e-04 3.70266661e-04\n",
            " 3.70266661e-04 4.32081709e-04 4.93623618e-04 5.00844405e-04\n",
            " 5.04722750e-04 5.11882894e-04 5.53824077e-04 5.73164155e-04\n",
            " 5.82016297e-04 7.26729426e-04 7.60093396e-04 8.06100228e-04\n",
            " 8.34916726e-04 8.61973472e-04 8.89357386e-04 8.90416149e-04\n",
            " 9.62874115e-04 9.67443444e-04 9.71094740e-04 1.04246807e-03\n",
            " 1.04362477e-03 1.15166751e-03 1.19309868e-03 1.24964687e-03\n",
            " 1.24964687e-03 1.26539148e-03 1.26539148e-03 1.30283222e-03\n",
            " 1.37887578e-03 1.46522073e-03 1.47382093e-03 1.54907806e-03\n",
            " 1.54907806e-03 1.55694726e-03 1.56317177e-03 1.57063286e-03\n",
            " 1.57063286e-03 1.62112405e-03 1.62112405e-03 1.64314077e-03\n",
            " 1.65237624e-03 1.65237624e-03 1.65580901e-03 1.70242483e-03\n",
            " 1.70977279e-03 1.73126846e-03 1.73126846e-03 1.79956422e-03\n",
            " 1.92604538e-03 1.97760315e-03 2.18354627e-03 2.31432226e-03\n",
            " 2.37150006e-03 2.37815686e-03 2.39684705e-03 2.44282470e-03\n",
            " 2.45676101e-03 2.45676101e-03 2.52596106e-03 2.55612300e-03\n",
            " 2.63933479e-03 2.63933479e-03 2.66660878e-03 2.77460405e-03\n",
            " 2.77460405e-03 2.77640462e-03 2.83566329e-03 2.83566329e-03\n",
            " 2.93272437e-03 3.06689495e-03 3.12748035e-03 3.15326916e-03\n",
            " 3.20440830e-03 3.27393563e-03 3.31799250e-03 3.31799250e-03\n",
            " 3.34080171e-03 3.36221553e-03 3.36221553e-03 3.43503932e-03\n",
            " 3.43503932e-03 3.57612588e-03 3.61945998e-03 3.61945998e-03\n",
            " 3.66038605e-03 3.66038605e-03 3.83035420e-03 4.02259177e-03\n",
            " 4.14183482e-03 4.22512092e-03 4.45650092e-03 4.46467967e-03\n",
            " 4.46467967e-03 4.48977051e-03 4.48977051e-03 4.52618176e-03\n",
            " 4.69940678e-03 4.69940678e-03 4.80681010e-03 5.11822453e-03\n",
            " 5.11822453e-03 5.29608097e-03 5.35041007e-03 5.39619405e-03\n",
            " 5.39619405e-03 5.50065431e-03 5.50065431e-03 5.69894349e-03\n",
            " 6.31316432e-03 6.31316432e-03 7.15497815e-03 7.15497815e-03\n",
            " 1.15007618e+00 1.43765788e+00]\n"
          ],
          "name": "stdout"
        }
      ]
    },
    {
      "cell_type": "code",
      "metadata": {
        "id": "OEFfgPJHix_Z"
      },
      "source": [
        ""
      ],
      "execution_count": 7,
      "outputs": []
    }
  ]
}